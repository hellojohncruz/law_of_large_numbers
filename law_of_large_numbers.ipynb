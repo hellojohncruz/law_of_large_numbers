{
 "cells": [
  {
   "cell_type": "code",
   "execution_count": 1,
   "id": "24721f14-c5d2-4078-931f-07ffb04dfb86",
   "metadata": {},
   "outputs": [],
   "source": [
    "''' Verify Law of Large Numbers. The expectation of a fair 6-sided die is 3.5 based on \n",
    "    E = (x1 * P(x1)) + (x2 * P(x2)) + (x3 * P(x3)) + . . . + (xn * (P(xn)) '''\n",
    "\n",
    "# use random integer generator\n",
    "import random\n",
    "\n",
    "# use seed to be able to reproduce results\n",
    "random.seed(123)"
   ]
  },
  {
   "cell_type": "code",
   "execution_count": 2,
   "id": "37e60e1b-c0f5-4714-81b4-83036c835877",
   "metadata": {},
   "outputs": [
    {
     "name": "stdout",
     "output_type": "stream",
     "text": [
      "100 Trials: 3.69\n",
      "1000 Trials: 3.425\n",
      "10000 Trials: 3.4888\n",
      "100000 Trials: 3.49893\n",
      "500000 Trials: 3.496384\n"
     ]
    }
   ],
   "source": [
    "# number of trials to run\n",
    "trials = [100, 1000, 10000, 100000, 500000]\n",
    "\n",
    "\n",
    "# loop through different trials\n",
    "for trial in trials:\n",
    "    counter = 0\n",
    "    num_tracker = list()\n",
    "    \n",
    "    while counter < trial:\n",
    "        num_tracker.append(random.randint(1,6))\n",
    "        counter += 1\n",
    "    print(str(trial) + ' Trials: ' + str(sum(num_tracker)/len(num_tracker)))"
   ]
  },
  {
   "cell_type": "code",
   "execution_count": null,
   "id": "60a519dd-32d5-4641-8f29-29bcd3780591",
   "metadata": {},
   "outputs": [],
   "source": []
  }
 ],
 "metadata": {
  "kernelspec": {
   "display_name": "Python 3 (ipykernel)",
   "language": "python",
   "name": "python3"
  },
  "language_info": {
   "codemirror_mode": {
    "name": "ipython",
    "version": 3
   },
   "file_extension": ".py",
   "mimetype": "text/x-python",
   "name": "python",
   "nbconvert_exporter": "python",
   "pygments_lexer": "ipython3",
   "version": "3.8.5"
  }
 },
 "nbformat": 4,
 "nbformat_minor": 5
}
